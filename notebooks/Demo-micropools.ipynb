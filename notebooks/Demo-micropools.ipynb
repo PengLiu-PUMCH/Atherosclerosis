{
 "cells": [
  {
   "cell_type": "markdown",
   "metadata": {},
   "source": [
    "# Compass Micropooled Analysis"
   ]
  },
  {
   "cell_type": "markdown",
   "metadata": {},
   "source": [
    "To install the required python packages, you can uncomment the \"install_reqs()\" call."
   ]
  },
  {
   "cell_type": "code",
   "execution_count": 1,
   "metadata": {},
   "outputs": [],
   "source": [
    "def install_reqs():\n",
    "    !pip install pandas\n",
    "    !pip install numpy\n",
    "#install_reqs()"
   ]
  },
  {
   "cell_type": "code",
   "execution_count": 2,
   "metadata": {},
   "outputs": [],
   "source": [
    "import sys\n",
    "if \"google.colab\" in sys.modules:\n",
    "  !git clone -b docs https://github.com/YosefLab/Compass.git --depth 1\n",
    "  !cp -r Compass/notebooks/extdata ./\n",
    "  !rm -r /content/Compass\n",
    "  install_reqs()"
   ]
  },
  {
   "cell_type": "code",
   "execution_count": 3,
   "metadata": {},
   "outputs": [],
   "source": [
    "import pandas as pd\n",
    "import numpy as np"
   ]
  },
  {
   "cell_type": "markdown",
   "metadata": {},
   "source": [
    "This notebook demonstrates how to analyze the results of Compass when micropooled. In particular, how to determine what cell type each cluster/pool represents."
   ]
  },
  {
   "cell_type": "code",
   "execution_count": 4,
   "metadata": {},
   "outputs": [],
   "source": [
    "cell_md = pd.read_csv(\"extdata/Th17/cell_metadata.csv\", index_col=0)\n",
    "reaction_penalties = pd.read_csv(\"extdata/Th17-micropooled/reactions.tsv\", sep=\"\\t\", index_col=0)\n",
    "micropools = pd.read_csv(\"extdata/Th17-micropooled/micropools.tsv\", sep=\"\\t\", index_col=0)"
   ]
  },
  {
   "cell_type": "code",
   "execution_count": 5,
   "metadata": {},
   "outputs": [],
   "source": [
    "clusters = {}\n",
    "for cell in micropools.index:\n",
    "    mc = micropools.loc[cell, 'microcluster']\n",
    "    if mc in clusters:\n",
    "        clusters[mc] += [cell]\n",
    "    else:\n",
    "        clusters[mc] = [cell]"
   ]
  },
  {
   "cell_type": "code",
   "execution_count": 6,
   "metadata": {},
   "outputs": [],
   "source": [
    "Th17p, Th17n = {cl:0 for cl in clusters}, {cl:0 for cl in clusters}\n",
    "for cl in clusters:\n",
    "    for cell in clusters[cl]:\n",
    "        cell_type = cell_md.loc[cell, 'cell_type']\n",
    "        if cell_type == 'Th17p':\n",
    "            Th17p[cl] += 1\n",
    "        elif cell_type == 'Th17n':\n",
    "            Th17n[cl] += 1\n",
    "        else:\n",
    "            print(\"Should not happen\")\n",
    "pctTh17p = {cl:Th17p[cl] / (Th17p[cl] + Th17n[cl]) for cl in clusters}"
   ]
  },
  {
   "cell_type": "markdown",
   "metadata": {},
   "source": [
    "This gives percentage of the clusters that are Th17p or Th17n. In this case, all of the clusters are one cell type or the other. Then you can apply the regular analysis to the micropooled data and treat each cluster as being the predominant cell type."
   ]
  },
  {
   "cell_type": "code",
   "execution_count": 7,
   "metadata": {},
   "outputs": [
    {
     "data": {
      "text/plain": [
       "{10: 1.0,\n",
       " 24: 1.0,\n",
       " 12: 1.0,\n",
       " 11: 1.0,\n",
       " 14: 1.0,\n",
       " 9: 1.0,\n",
       " 27: 1.0,\n",
       " 23: 1.0,\n",
       " 28: 1.0,\n",
       " 15: 1.0,\n",
       " 26: 1.0,\n",
       " 25: 1.0,\n",
       " 16: 1.0,\n",
       " 13: 1.0,\n",
       " 4: 0.0,\n",
       " 3: 0.0,\n",
       " 7: 0.0,\n",
       " 20: 0.0,\n",
       " 18: 0.0,\n",
       " 2: 0.0,\n",
       " 21: 0.0,\n",
       " 17: 0.0,\n",
       " 6: 0.0,\n",
       " 8: 0.0,\n",
       " 0: 0.0,\n",
       " 5: 0.0,\n",
       " 1: 0.0,\n",
       " 19: 0.0,\n",
       " 22: 0.0}"
      ]
     },
     "execution_count": 7,
     "metadata": {},
     "output_type": "execute_result"
    }
   ],
   "source": [
    "pctTh17p"
   ]
  },
  {
   "cell_type": "markdown",
   "metadata": {},
   "source": [
    "For dataset the micropooling worked very well and every single pool/cluster is only composed of one cell type. For others you may want to set a cutoff such as 90 percent used in the code below."
   ]
  },
  {
   "cell_type": "code",
   "execution_count": 8,
   "metadata": {},
   "outputs": [],
   "source": [
    "def mc_type(pct):\n",
    "    if pct > 0.9:\n",
    "        return 'Th17p'\n",
    "    elif pct < 0.1:\n",
    "        return 'Th17n'\n",
    "    else:\n",
    "        return 'Uncertain'\n",
    "micropool_md = {'cluster_'+str(cl):mc_type(pctTh17p[cl]) for cl in pctTh17p}\n",
    "micropool_md = pd.DataFrame.from_dict(micropool_md, orient='index', columns=['cell_type'])"
   ]
  },
  {
   "cell_type": "code",
   "execution_count": 9,
   "metadata": {},
   "outputs": [],
   "source": [
    "micropool_md.to_csv(\"extdata/Th17-micropooled/cluster_metadata.csv\")"
   ]
  },
  {
   "cell_type": "markdown",
   "metadata": {},
   "source": [
    "This now gives a metadata to use when determining what each cluster represents, analgous to the regular cell metadata. Then the data can be analyzed as you would a regular dataset.\n",
    "\n",
    "For the [python notebook](https://github.com/YosefLab/Compass/blob/docs/notebooks/Demo.ipynb) we demonstrate an analysis of Compass results with, this can be dome simply by changing the input files. Replace \"extdata/Th17/reactions.tsv\" with \"extdata/Th17-micropooled/reactions.tsv\" and \"extdata/Th17/cell_metadata.csv\" with \"extdata/Th17-micropooled/cluster_metadata.csv\"."
   ]
  },
  {
   "cell_type": "code",
   "execution_count": 10,
   "metadata": {},
   "outputs": [
    {
     "data": {
      "text/html": [
       "<div>\n",
       "<style scoped>\n",
       "    .dataframe tbody tr th:only-of-type {\n",
       "        vertical-align: middle;\n",
       "    }\n",
       "\n",
       "    .dataframe tbody tr th {\n",
       "        vertical-align: top;\n",
       "    }\n",
       "\n",
       "    .dataframe thead th {\n",
       "        text-align: right;\n",
       "    }\n",
       "</style>\n",
       "<table border=\"1\" class=\"dataframe\">\n",
       "  <thead>\n",
       "    <tr style=\"text-align: right;\">\n",
       "      <th></th>\n",
       "      <th>cell_type</th>\n",
       "    </tr>\n",
       "  </thead>\n",
       "  <tbody>\n",
       "    <tr>\n",
       "      <th>cluster_10</th>\n",
       "      <td>Th17p</td>\n",
       "    </tr>\n",
       "    <tr>\n",
       "      <th>cluster_24</th>\n",
       "      <td>Th17p</td>\n",
       "    </tr>\n",
       "    <tr>\n",
       "      <th>cluster_12</th>\n",
       "      <td>Th17p</td>\n",
       "    </tr>\n",
       "    <tr>\n",
       "      <th>cluster_11</th>\n",
       "      <td>Th17p</td>\n",
       "    </tr>\n",
       "    <tr>\n",
       "      <th>cluster_14</th>\n",
       "      <td>Th17p</td>\n",
       "    </tr>\n",
       "    <tr>\n",
       "      <th>cluster_9</th>\n",
       "      <td>Th17p</td>\n",
       "    </tr>\n",
       "    <tr>\n",
       "      <th>cluster_27</th>\n",
       "      <td>Th17p</td>\n",
       "    </tr>\n",
       "    <tr>\n",
       "      <th>cluster_23</th>\n",
       "      <td>Th17p</td>\n",
       "    </tr>\n",
       "    <tr>\n",
       "      <th>cluster_28</th>\n",
       "      <td>Th17p</td>\n",
       "    </tr>\n",
       "    <tr>\n",
       "      <th>cluster_15</th>\n",
       "      <td>Th17p</td>\n",
       "    </tr>\n",
       "    <tr>\n",
       "      <th>cluster_26</th>\n",
       "      <td>Th17p</td>\n",
       "    </tr>\n",
       "    <tr>\n",
       "      <th>cluster_25</th>\n",
       "      <td>Th17p</td>\n",
       "    </tr>\n",
       "    <tr>\n",
       "      <th>cluster_16</th>\n",
       "      <td>Th17p</td>\n",
       "    </tr>\n",
       "    <tr>\n",
       "      <th>cluster_13</th>\n",
       "      <td>Th17p</td>\n",
       "    </tr>\n",
       "    <tr>\n",
       "      <th>cluster_4</th>\n",
       "      <td>Th17n</td>\n",
       "    </tr>\n",
       "    <tr>\n",
       "      <th>cluster_3</th>\n",
       "      <td>Th17n</td>\n",
       "    </tr>\n",
       "    <tr>\n",
       "      <th>cluster_7</th>\n",
       "      <td>Th17n</td>\n",
       "    </tr>\n",
       "    <tr>\n",
       "      <th>cluster_20</th>\n",
       "      <td>Th17n</td>\n",
       "    </tr>\n",
       "    <tr>\n",
       "      <th>cluster_18</th>\n",
       "      <td>Th17n</td>\n",
       "    </tr>\n",
       "    <tr>\n",
       "      <th>cluster_2</th>\n",
       "      <td>Th17n</td>\n",
       "    </tr>\n",
       "    <tr>\n",
       "      <th>cluster_21</th>\n",
       "      <td>Th17n</td>\n",
       "    </tr>\n",
       "    <tr>\n",
       "      <th>cluster_17</th>\n",
       "      <td>Th17n</td>\n",
       "    </tr>\n",
       "    <tr>\n",
       "      <th>cluster_6</th>\n",
       "      <td>Th17n</td>\n",
       "    </tr>\n",
       "    <tr>\n",
       "      <th>cluster_8</th>\n",
       "      <td>Th17n</td>\n",
       "    </tr>\n",
       "    <tr>\n",
       "      <th>cluster_0</th>\n",
       "      <td>Th17n</td>\n",
       "    </tr>\n",
       "    <tr>\n",
       "      <th>cluster_5</th>\n",
       "      <td>Th17n</td>\n",
       "    </tr>\n",
       "    <tr>\n",
       "      <th>cluster_1</th>\n",
       "      <td>Th17n</td>\n",
       "    </tr>\n",
       "    <tr>\n",
       "      <th>cluster_19</th>\n",
       "      <td>Th17n</td>\n",
       "    </tr>\n",
       "    <tr>\n",
       "      <th>cluster_22</th>\n",
       "      <td>Th17n</td>\n",
       "    </tr>\n",
       "  </tbody>\n",
       "</table>\n",
       "</div>"
      ],
      "text/plain": [
       "           cell_type\n",
       "cluster_10     Th17p\n",
       "cluster_24     Th17p\n",
       "cluster_12     Th17p\n",
       "cluster_11     Th17p\n",
       "cluster_14     Th17p\n",
       "cluster_9      Th17p\n",
       "cluster_27     Th17p\n",
       "cluster_23     Th17p\n",
       "cluster_28     Th17p\n",
       "cluster_15     Th17p\n",
       "cluster_26     Th17p\n",
       "cluster_25     Th17p\n",
       "cluster_16     Th17p\n",
       "cluster_13     Th17p\n",
       "cluster_4      Th17n\n",
       "cluster_3      Th17n\n",
       "cluster_7      Th17n\n",
       "cluster_20     Th17n\n",
       "cluster_18     Th17n\n",
       "cluster_2      Th17n\n",
       "cluster_21     Th17n\n",
       "cluster_17     Th17n\n",
       "cluster_6      Th17n\n",
       "cluster_8      Th17n\n",
       "cluster_0      Th17n\n",
       "cluster_5      Th17n\n",
       "cluster_1      Th17n\n",
       "cluster_19     Th17n\n",
       "cluster_22     Th17n"
      ]
     },
     "execution_count": 10,
     "metadata": {},
     "output_type": "execute_result"
    }
   ],
   "source": [
    "micropool_md"
   ]
  }
 ],
 "metadata": {
  "kernelspec": {
   "display_name": "Python 3",
   "language": "python",
   "name": "python3"
  },
  "language_info": {
   "codemirror_mode": {
    "name": "ipython",
    "version": 3
   },
   "file_extension": ".py",
   "mimetype": "text/x-python",
   "name": "python",
   "nbconvert_exporter": "python",
   "pygments_lexer": "ipython3",
   "version": "3.7.3"
  }
 },
 "nbformat": 4,
 "nbformat_minor": 4
}
